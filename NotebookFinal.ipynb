{
 "cells": [
  {
   "cell_type": "markdown",
   "metadata": {},
   "source": [
    "# **Projet final Datascience**"
   ]
  },
  {
   "cell_type": "markdown",
   "metadata": {},
   "source": [
    "#### **1 - Import des différentes bibliothèques**"
   ]
  },
  {
   "cell_type": "code",
   "execution_count": 67,
   "metadata": {},
   "outputs": [],
   "source": [
    "import pandas as pd\n",
    "import matplotlib.pyplot as plt\n",
    "import numpy as np"
   ]
  },
  {
   "cell_type": "markdown",
   "metadata": {},
   "source": [
    "#### **2 - Présentation du jeu de données et des différentes valeurs**"
   ]
  },
  {
   "cell_type": "markdown",
   "metadata": {},
   "source": [
    "**Lecture du fichier CSV**"
   ]
  },
  {
   "cell_type": "code",
   "execution_count": 68,
   "metadata": {},
   "outputs": [],
   "source": [
    "df = pd.read_csv('car_data.csv')"
   ]
  },
  {
   "cell_type": "markdown",
   "metadata": {},
   "source": [
    "**2.1 - Analyse de surface du dataset :** \n",
    "- Shape\n",
    "- Colonnes\n",
    "- Nombre de données nulles"
   ]
  },
  {
   "cell_type": "code",
   "execution_count": 69,
   "metadata": {},
   "outputs": [
    {
     "name": "stdout",
     "output_type": "stream",
     "text": [
      "Voici la shape du dataframe : (301, 9)\n",
      "Les différentes colonnes du dataset sont : Car_Name,Year,Selling_Price,Present_Price,Kms_Driven,Fuel_Type,Seller_Type,Transmission,Owner\n",
      "Car_Name         0\n",
      "Year             0\n",
      "Selling_Price    0\n",
      "Present_Price    0\n",
      "Kms_Driven       0\n",
      "Fuel_Type        0\n",
      "Seller_Type      0\n",
      "Transmission     0\n",
      "Owner            0\n",
      "dtype: int64\n"
     ]
    }
   ],
   "source": [
    "print(\"Voici la shape du dataframe : \" +  str(df.shape))\n",
    "print(\"Les différentes colonnes du dataset sont : \" +\",\".join(df.columns))\n",
    "print(df.isnull().sum())"
   ]
  },
  {
   "cell_type": "markdown",
   "metadata": {},
   "source": [
    "**2.2 - Visualisation des 5 premières lignes du dataset**"
   ]
  },
  {
   "cell_type": "code",
   "execution_count": 70,
   "metadata": {},
   "outputs": [
    {
     "name": "stdout",
     "output_type": "stream",
     "text": [
      "  Car_Name  Year  Selling_Price  Present_Price  Kms_Driven Fuel_Type  \\\n",
      "0     ritz  2014           3.35           5.59       27000    Petrol   \n",
      "1      sx4  2013           4.75           9.54       43000    Diesel   \n",
      "2     ciaz  2017           7.25           9.85        6900    Petrol   \n",
      "3  wagon r  2011           2.85           4.15        5200    Petrol   \n",
      "4    swift  2014           4.60           6.87       42450    Diesel   \n",
      "\n",
      "  Seller_Type Transmission  Owner  \n",
      "0      Dealer       Manual      0  \n",
      "1      Dealer       Manual      0  \n",
      "2      Dealer       Manual      0  \n",
      "3      Dealer       Manual      0  \n",
      "4      Dealer       Manual      0  \n"
     ]
    }
   ],
   "source": [
    "print(df.head(5))"
   ]
  },
  {
   "cell_type": "markdown",
   "metadata": {},
   "source": [
    "**2.3 - Présentation des colonnes avec des valeurs numériques**"
   ]
  },
  {
   "cell_type": "code",
   "execution_count": 71,
   "metadata": {},
   "outputs": [
    {
     "data": {
      "text/html": [
       "<div>\n",
       "<style scoped>\n",
       "    .dataframe tbody tr th:only-of-type {\n",
       "        vertical-align: middle;\n",
       "    }\n",
       "\n",
       "    .dataframe tbody tr th {\n",
       "        vertical-align: top;\n",
       "    }\n",
       "\n",
       "    .dataframe thead th {\n",
       "        text-align: right;\n",
       "    }\n",
       "</style>\n",
       "<table border=\"1\" class=\"dataframe\">\n",
       "  <thead>\n",
       "    <tr style=\"text-align: right;\">\n",
       "      <th></th>\n",
       "      <th>Selling_Price</th>\n",
       "      <th>Present_Price</th>\n",
       "      <th>Kms_Driven</th>\n",
       "    </tr>\n",
       "  </thead>\n",
       "  <tbody>\n",
       "    <tr>\n",
       "      <th>count</th>\n",
       "      <td>301.000000</td>\n",
       "      <td>301.000000</td>\n",
       "      <td>301.000000</td>\n",
       "    </tr>\n",
       "    <tr>\n",
       "      <th>mean</th>\n",
       "      <td>4.661296</td>\n",
       "      <td>7.628472</td>\n",
       "      <td>36947.205980</td>\n",
       "    </tr>\n",
       "    <tr>\n",
       "      <th>std</th>\n",
       "      <td>5.082812</td>\n",
       "      <td>8.644115</td>\n",
       "      <td>38886.883882</td>\n",
       "    </tr>\n",
       "    <tr>\n",
       "      <th>min</th>\n",
       "      <td>0.100000</td>\n",
       "      <td>0.320000</td>\n",
       "      <td>500.000000</td>\n",
       "    </tr>\n",
       "    <tr>\n",
       "      <th>25%</th>\n",
       "      <td>0.900000</td>\n",
       "      <td>1.200000</td>\n",
       "      <td>15000.000000</td>\n",
       "    </tr>\n",
       "    <tr>\n",
       "      <th>50%</th>\n",
       "      <td>3.600000</td>\n",
       "      <td>6.400000</td>\n",
       "      <td>32000.000000</td>\n",
       "    </tr>\n",
       "    <tr>\n",
       "      <th>75%</th>\n",
       "      <td>6.000000</td>\n",
       "      <td>9.900000</td>\n",
       "      <td>48767.000000</td>\n",
       "    </tr>\n",
       "    <tr>\n",
       "      <th>max</th>\n",
       "      <td>35.000000</td>\n",
       "      <td>92.600000</td>\n",
       "      <td>500000.000000</td>\n",
       "    </tr>\n",
       "  </tbody>\n",
       "</table>\n",
       "</div>"
      ],
      "text/plain": [
       "       Selling_Price  Present_Price     Kms_Driven\n",
       "count     301.000000     301.000000     301.000000\n",
       "mean        4.661296       7.628472   36947.205980\n",
       "std         5.082812       8.644115   38886.883882\n",
       "min         0.100000       0.320000     500.000000\n",
       "25%         0.900000       1.200000   15000.000000\n",
       "50%         3.600000       6.400000   32000.000000\n",
       "75%         6.000000       9.900000   48767.000000\n",
       "max        35.000000      92.600000  500000.000000"
      ]
     },
     "execution_count": 71,
     "metadata": {},
     "output_type": "execute_result"
    }
   ],
   "source": [
    "df[['Selling_Price','Present_Price','Kms_Driven']].describe()"
   ]
  },
  {
   "cell_type": "markdown",
   "metadata": {},
   "source": [
    "#### **3 - Préparation et nettoyage des données**"
   ]
  },
  {
   "cell_type": "markdown",
   "metadata": {},
   "source": [
    "**3.1 - Suppression de colonnes :**\n",
    "- \"Car_Name\" est une colonne inutile pour prédire le prix d'une fonction en fonction des différentes features"
   ]
  },
  {
   "cell_type": "code",
   "execution_count": 72,
   "metadata": {},
   "outputs": [
    {
     "data": {
      "text/html": [
       "<div>\n",
       "<style scoped>\n",
       "    .dataframe tbody tr th:only-of-type {\n",
       "        vertical-align: middle;\n",
       "    }\n",
       "\n",
       "    .dataframe tbody tr th {\n",
       "        vertical-align: top;\n",
       "    }\n",
       "\n",
       "    .dataframe thead th {\n",
       "        text-align: right;\n",
       "    }\n",
       "</style>\n",
       "<table border=\"1\" class=\"dataframe\">\n",
       "  <thead>\n",
       "    <tr style=\"text-align: right;\">\n",
       "      <th></th>\n",
       "      <th>Year</th>\n",
       "      <th>Selling_Price</th>\n",
       "      <th>Present_Price</th>\n",
       "      <th>Kms_Driven</th>\n",
       "      <th>Fuel_Type</th>\n",
       "      <th>Seller_Type</th>\n",
       "      <th>Transmission</th>\n",
       "      <th>Owner</th>\n",
       "    </tr>\n",
       "  </thead>\n",
       "  <tbody>\n",
       "    <tr>\n",
       "      <th>0</th>\n",
       "      <td>2014</td>\n",
       "      <td>3.35</td>\n",
       "      <td>5.59</td>\n",
       "      <td>27000</td>\n",
       "      <td>Petrol</td>\n",
       "      <td>Dealer</td>\n",
       "      <td>Manual</td>\n",
       "      <td>0</td>\n",
       "    </tr>\n",
       "    <tr>\n",
       "      <th>1</th>\n",
       "      <td>2013</td>\n",
       "      <td>4.75</td>\n",
       "      <td>9.54</td>\n",
       "      <td>43000</td>\n",
       "      <td>Diesel</td>\n",
       "      <td>Dealer</td>\n",
       "      <td>Manual</td>\n",
       "      <td>0</td>\n",
       "    </tr>\n",
       "    <tr>\n",
       "      <th>2</th>\n",
       "      <td>2017</td>\n",
       "      <td>7.25</td>\n",
       "      <td>9.85</td>\n",
       "      <td>6900</td>\n",
       "      <td>Petrol</td>\n",
       "      <td>Dealer</td>\n",
       "      <td>Manual</td>\n",
       "      <td>0</td>\n",
       "    </tr>\n",
       "    <tr>\n",
       "      <th>3</th>\n",
       "      <td>2011</td>\n",
       "      <td>2.85</td>\n",
       "      <td>4.15</td>\n",
       "      <td>5200</td>\n",
       "      <td>Petrol</td>\n",
       "      <td>Dealer</td>\n",
       "      <td>Manual</td>\n",
       "      <td>0</td>\n",
       "    </tr>\n",
       "    <tr>\n",
       "      <th>4</th>\n",
       "      <td>2014</td>\n",
       "      <td>4.60</td>\n",
       "      <td>6.87</td>\n",
       "      <td>42450</td>\n",
       "      <td>Diesel</td>\n",
       "      <td>Dealer</td>\n",
       "      <td>Manual</td>\n",
       "      <td>0</td>\n",
       "    </tr>\n",
       "    <tr>\n",
       "      <th>...</th>\n",
       "      <td>...</td>\n",
       "      <td>...</td>\n",
       "      <td>...</td>\n",
       "      <td>...</td>\n",
       "      <td>...</td>\n",
       "      <td>...</td>\n",
       "      <td>...</td>\n",
       "      <td>...</td>\n",
       "    </tr>\n",
       "    <tr>\n",
       "      <th>296</th>\n",
       "      <td>2016</td>\n",
       "      <td>9.50</td>\n",
       "      <td>11.60</td>\n",
       "      <td>33988</td>\n",
       "      <td>Diesel</td>\n",
       "      <td>Dealer</td>\n",
       "      <td>Manual</td>\n",
       "      <td>0</td>\n",
       "    </tr>\n",
       "    <tr>\n",
       "      <th>297</th>\n",
       "      <td>2015</td>\n",
       "      <td>4.00</td>\n",
       "      <td>5.90</td>\n",
       "      <td>60000</td>\n",
       "      <td>Petrol</td>\n",
       "      <td>Dealer</td>\n",
       "      <td>Manual</td>\n",
       "      <td>0</td>\n",
       "    </tr>\n",
       "    <tr>\n",
       "      <th>298</th>\n",
       "      <td>2009</td>\n",
       "      <td>3.35</td>\n",
       "      <td>11.00</td>\n",
       "      <td>87934</td>\n",
       "      <td>Petrol</td>\n",
       "      <td>Dealer</td>\n",
       "      <td>Manual</td>\n",
       "      <td>0</td>\n",
       "    </tr>\n",
       "    <tr>\n",
       "      <th>299</th>\n",
       "      <td>2017</td>\n",
       "      <td>11.50</td>\n",
       "      <td>12.50</td>\n",
       "      <td>9000</td>\n",
       "      <td>Diesel</td>\n",
       "      <td>Dealer</td>\n",
       "      <td>Manual</td>\n",
       "      <td>0</td>\n",
       "    </tr>\n",
       "    <tr>\n",
       "      <th>300</th>\n",
       "      <td>2016</td>\n",
       "      <td>5.30</td>\n",
       "      <td>5.90</td>\n",
       "      <td>5464</td>\n",
       "      <td>Petrol</td>\n",
       "      <td>Dealer</td>\n",
       "      <td>Manual</td>\n",
       "      <td>0</td>\n",
       "    </tr>\n",
       "  </tbody>\n",
       "</table>\n",
       "<p>301 rows × 8 columns</p>\n",
       "</div>"
      ],
      "text/plain": [
       "     Year  Selling_Price  Present_Price  Kms_Driven Fuel_Type Seller_Type  \\\n",
       "0    2014           3.35           5.59       27000    Petrol      Dealer   \n",
       "1    2013           4.75           9.54       43000    Diesel      Dealer   \n",
       "2    2017           7.25           9.85        6900    Petrol      Dealer   \n",
       "3    2011           2.85           4.15        5200    Petrol      Dealer   \n",
       "4    2014           4.60           6.87       42450    Diesel      Dealer   \n",
       "..    ...            ...            ...         ...       ...         ...   \n",
       "296  2016           9.50          11.60       33988    Diesel      Dealer   \n",
       "297  2015           4.00           5.90       60000    Petrol      Dealer   \n",
       "298  2009           3.35          11.00       87934    Petrol      Dealer   \n",
       "299  2017          11.50          12.50        9000    Diesel      Dealer   \n",
       "300  2016           5.30           5.90        5464    Petrol      Dealer   \n",
       "\n",
       "    Transmission  Owner  \n",
       "0         Manual      0  \n",
       "1         Manual      0  \n",
       "2         Manual      0  \n",
       "3         Manual      0  \n",
       "4         Manual      0  \n",
       "..           ...    ...  \n",
       "296       Manual      0  \n",
       "297       Manual      0  \n",
       "298       Manual      0  \n",
       "299       Manual      0  \n",
       "300       Manual      0  \n",
       "\n",
       "[301 rows x 8 columns]"
      ]
     },
     "execution_count": 72,
     "metadata": {},
     "output_type": "execute_result"
    }
   ],
   "source": [
    "df = df.drop('Car_Name',axis=1)\n",
    "df"
   ]
  },
  {
   "cell_type": "markdown",
   "metadata": {},
   "source": [
    "**3.2 - Visualisation des données catégorielles**"
   ]
  },
  {
   "cell_type": "code",
   "execution_count": 73,
   "metadata": {},
   "outputs": [
    {
     "name": "stdout",
     "output_type": "stream",
     "text": [
      "Fuel_Type\n",
      "Petrol    239\n",
      "Diesel     60\n",
      "CNG         2\n",
      "Name: count, dtype: int64\n",
      "\n",
      "\n",
      "Seller_Type\n",
      "Dealer        195\n",
      "Individual    106\n",
      "Name: count, dtype: int64\n",
      "\n",
      "\n",
      "Transmission\n",
      "Manual       261\n",
      "Automatic     40\n",
      "Name: count, dtype: int64\n"
     ]
    }
   ],
   "source": [
    "print(df['Fuel_Type'].value_counts())\n",
    "print(\"\\n\")\n",
    "print(df['Seller_Type'].value_counts())\n",
    "print(\"\\n\")\n",
    "print(df['Transmission'].value_counts())"
   ]
  },
  {
   "cell_type": "markdown",
   "metadata": {},
   "source": [
    "**3.3 - Suppression des données qui ne sont pas exploitable**\n",
    "- Nous allons supprimer les deux lignes qui correspondent à CNG dans Fuel_Type"
   ]
  },
  {
   "cell_type": "code",
   "execution_count": 74,
   "metadata": {},
   "outputs": [],
   "source": [
    "lineToDrop = df[df['Fuel_Type'] == 'CNG'].index\n",
    "df = df.drop(lineToDrop)"
   ]
  },
  {
   "cell_type": "markdown",
   "metadata": {},
   "source": [
    "**3.4 - Changements dans le dataset :** \n",
    "- Ajout de la colonne age pour la simplicité de compréhension de la vieillesse d'une voiture\n",
    "- Suppression de la colonne Year qui ne sert plus à rien"
   ]
  },
  {
   "cell_type": "code",
   "execution_count": 75,
   "metadata": {},
   "outputs": [],
   "source": [
    "maxAge = df['Year'].max()\n",
    "df['carAge'] = (maxAge+ 1) - df['Year']"
   ]
  },
  {
   "cell_type": "markdown",
   "metadata": {},
   "source": [
    "#### **4 - Visualisation des données**\n",
    "- Visualisation des différentes Features en fonction du prix de vente"
   ]
  },
  {
   "cell_type": "code",
   "execution_count": 76,
   "metadata": {},
   "outputs": [],
   "source": [
    "# Ajustement de valeurs pour les rendre plus lisible\n",
    "df['Kms_Driven'] = df['Kms_Driven'] / 1000"
   ]
  },
  {
   "cell_type": "markdown",
   "metadata": {},
   "source": [
    "**4.1 - Utilisation des scatter plots**\n",
    "- Relation entre deux variables\n",
    "- Identification des outliers \n",
    "- Comprendre la distribution des données"
   ]
  },
  {
   "cell_type": "code",
   "execution_count": 77,
   "metadata": {},
   "outputs": [
    {
     "name": "stderr",
     "output_type": "stream",
     "text": [
      "C:\\Users\\valen\\AppData\\Local\\Temp\\ipykernel_10388\\2893624991.py:21: UserWarning: Matplotlib is currently using module://matplotlib_inline.backend_inline, which is a non-GUI backend, so cannot show the figure.\n",
      "  fig.show()\n"
     ]
    },
    {
     "data": {
      "image/png": "[encoded data removed]",
      "text/plain": [
       "<Figure size 1500x500 with 3 Axes>"
      ]
     },
     "metadata": {},
     "output_type": "display_data"
    }
   ],
   "source": [
    "fig,axes = plt.subplots(nrows=1,ncols=3, figsize=(15,5))\n",
    "\n",
    "# Figure 1\n",
    "axes[0].scatter(df['carAge'],df['Selling_Price'], color='r')\n",
    "axes[0].set_title('Prix de vente en fonction de l\\'âge')\n",
    "axes[0].set_xlabel('Age de la voiture')\n",
    "axes[0].set_ylabel('Prix de vente (k€)')\n",
    "\n",
    "# Figure 2 \n",
    "axes[1].scatter(df['Present_Price'],df['Selling_Price'], color='g')\n",
    "axes[1].set_title('Prix de vente en fonction du prix actuel')\n",
    "axes[1].set_xlabel('Prix actuel (k€)')\n",
    "axes[1].set_ylabel('Prix de vente (k€)')\n",
    "\n",
    "# Figure 3\n",
    "axes[2].scatter(df['Kms_Driven'],df['Selling_Price'],color='b')\n",
    "axes[2].set_title('Prix de vente en fonction des km roulés')\n",
    "axes[2].set_xlabel('Milliers de Km roulés')\n",
    "axes[2].set_ylabel('Prix de vente (k€)')\n",
    "\n",
    "fig.show()"
   ]
  },
  {
   "cell_type": "markdown",
   "metadata": {},
   "source": [
    "**4.2 - Analyse des boxplot pour enlever les outliers**\n",
    "- Résumé visuel de la distribution\n",
    "- Identification des outliers\n",
    "- Symétrie et forme de la distribution"
   ]
  },
  {
   "cell_type": "markdown",
   "metadata": {},
   "source": [
    "![](boxplot1.png)\n"
   ]
  },
  {
   "cell_type": "code",
   "execution_count": 78,
   "metadata": {},
   "outputs": [
    {
     "name": "stdout",
     "output_type": "stream",
     "text": [
      "Médiane du prix actuel (k€): 6.4\n",
      "Max du prix actuel (k€): 92.6\n",
      "Min du prix actuel (k€): 0.32\n",
      "\n",
      "\n",
      "Médiane des km roulés (k€): 32.0\n",
      "Max des km roulés (k€): 500.0\n",
      "Min des km roulés (k€): 0.5\n"
     ]
    },
    {
     "name": "stderr",
     "output_type": "stream",
     "text": [
      "C:\\Users\\valen\\AppData\\Local\\Temp\\ipykernel_10388\\1925926920.py:11: UserWarning: Matplotlib is currently using module://matplotlib_inline.backend_inline, which is a non-GUI backend, so cannot show the figure.\n",
      "  fig.show()\n"
     ]
    },
    {
     "data": {
      "image/png": "[encoded data removed]",
      "text/plain": [
       "<Figure size 1500x500 with 2 Axes>"
      ]
     },
     "metadata": {},
     "output_type": "display_data"
    }
   ],
   "source": [
    "fig,axes = plt.subplots(nrows=1,ncols=2, figsize=(15,5))\n",
    " \n",
    "# Fig 1 \n",
    "axes[0].boxplot(df['Present_Price'])\n",
    "axes[0].set_title('Boxplot du prix actuel')\n",
    "\n",
    "# Fig 2\n",
    "axes[1].boxplot(df['Kms_Driven'])\n",
    "axes[1].set_title('Boxplot des km roulés')\n",
    "\n",
    "fig.show()\n",
    "\n",
    "print(\"Médiane du prix actuel (k€): \" + str(df['Present_Price'].median()))\n",
    "print(\"Max du prix actuel (k€): \" + str(df['Present_Price'].max()))\n",
    "print(\"Min du prix actuel (k€): \" + str(df['Present_Price'].min()))\n",
    "\n",
    "print('\\n')\n",
    "\n",
    "print(\"Médiane des km roulés (k€): \" + str(df['Kms_Driven'].median()))\n",
    "print(\"Max des km roulés (k€): \" + str(df['Kms_Driven'].max()))\n",
    "print(\"Min des km roulés (k€): \" + str(df['Kms_Driven'].min()))\n"
   ]
  },
  {
   "cell_type": "markdown",
   "metadata": {},
   "source": [
    "#### **5 - Post Visualisation (Ajustement des données)**"
   ]
  },
  {
   "cell_type": "markdown",
   "metadata": {},
   "source": [
    "**Outliers**\n",
    "- Calculer les quartiles et écart interquartile\n",
    "- Etablir les seuils pour l'élimination des outliers\n",
    "- Suppression des outliers"
   ]
  },
  {
   "cell_type": "markdown",
   "metadata": {},
   "source": [
    "**Pourquoi supprime t-on les outliers ?**\n",
    "- Eviter d'émettre des hypothèses erronées\n",
    "- Mauvaise généralisation du/des modèles aux nouvelles données\n",
    "- Rends le modèle moins robuste et plus sujet aux erreurs de prédictions"
   ]
  },
  {
   "cell_type": "code",
   "execution_count": 79,
   "metadata": {},
   "outputs": [
    {
     "name": "stdout",
     "output_type": "stream",
     "text": [
      "Shape avant : (299, 9)\n",
      "Index des données à supprimer : Index([50, 51, 53, 59, 62, 63, 64, 66, 79, 82, 85, 86, 93, 96], dtype='int64')\n",
      "Shape après :(285, 9)\n"
     ]
    }
   ],
   "source": [
    "# ==================================Prix actuel \n",
    "\n",
    "q1PresentPrice = np.percentile(df['Present_Price'],25)\n",
    "q3PresentPrice = np.percentile(df['Present_Price'],75)\n",
    "\n",
    "# Calcul de l'espace inter-quartile\n",
    "iqrPresentPrice = q3PresentPrice - q1PresentPrice\n",
    "\n",
    "# Plage de la borne IQR\n",
    "borneInfPresentPrice = q1PresentPrice - 1.5 * iqrPresentPrice\n",
    "bornSupPresentPrice = q3PresentPrice + 1.5 * iqrPresentPrice\n",
    "\n",
    "# Filtrer les indices des données qui sont en dehors de la plage interquartile\n",
    "indexSupprimer = df[(df['Present_Price'] < borneInfPresentPrice) | (df['Present_Price'] > bornSupPresentPrice)].index\n",
    "\n",
    "print(\"Shape avant : \" + str(df.shape))\n",
    "df = df.drop(indexSupprimer)\n",
    "\n",
    "# Affichage des données des index qui vont être supprimés\n",
    "print(\"Index des données à supprimer : \" + str(indexSupprimer))\n",
    "print(\"Shape après :\" + str(df.shape))\n"
   ]
  },
  {
   "cell_type": "code",
   "execution_count": 80,
   "metadata": {},
   "outputs": [
    {
     "name": "stdout",
     "output_type": "stream",
     "text": [
      "Shape avant : (285, 9)\n",
      "Index des données à supprimer : Index([37, 77, 84, 179, 196], dtype='int64')\n",
      "Shape après :(280, 9)\n"
     ]
    }
   ],
   "source": [
    "# ==================================Km roulés \n",
    "\n",
    "q1KmDriven = np.percentile(df['Kms_Driven'],25)\n",
    "q3KmDriven = np.percentile(df['Kms_Driven'],75)\n",
    "\n",
    "# Calcul de l'espace inter-quartile\n",
    "iqrKmDriven = q3KmDriven - q1KmDriven\n",
    "\n",
    "# Plage de la borne IQR\n",
    "borneInfKmDriven = q1KmDriven - 1.5 * iqrKmDriven\n",
    "bornSupKmDriven = q3KmDriven + 1.5 * iqrKmDriven\n",
    "\n",
    "# Filtrer les indices des données qui sont en dehors de la plage interquartile\n",
    "indexSupprimerKm = df[(df['Kms_Driven'] < borneInfKmDriven) | (df['Kms_Driven'] > bornSupKmDriven)].index\n",
    "\n",
    "print(\"Shape avant : \" + str(df.shape))\n",
    "df = df.drop(indexSupprimerKm)\n",
    "\n",
    "# Affichage des données des index qui vont être supprimés\n",
    "print(\"Index des données à supprimer : \" + str(indexSupprimerKm))\n",
    "print(\"Shape après :\" + str(df.shape))\n"
   ]
  },
  {
   "cell_type": "markdown",
   "metadata": {},
   "source": [
    "#### **6 - Visualisation après ajustement des données**"
   ]
  },
  {
   "cell_type": "code",
   "execution_count": 81,
   "metadata": {},
   "outputs": [
    {
     "name": "stderr",
     "output_type": "stream",
     "text": [
      "C:\\Users\\valen\\AppData\\Local\\Temp\\ipykernel_10388\\2068268727.py:15: UserWarning: Matplotlib is currently using module://matplotlib_inline.backend_inline, which is a non-GUI backend, so cannot show the figure.\n",
      "  fig.show()\n"
     ]
    },
    {
     "data": {
      "image/png": "[encoded data removed]",
      "text/plain": [
       "<Figure size 1500x500 with 2 Axes>"
      ]
     },
     "metadata": {},
     "output_type": "display_data"
    }
   ],
   "source": [
    "fig,axes = plt.subplots(nrows=1,ncols=2, figsize=(15,5))\n",
    "\n",
    "# Figure 2 \n",
    "axes[0].scatter(df['Present_Price'],df['Selling_Price'], color='g')\n",
    "axes[0].set_title('Prix de vente en fonction du prix actuel')\n",
    "axes[0].set_xlabel('Prix actuel (k€)')\n",
    "axes[0].set_ylabel('Prix de vente (k€)')\n",
    "\n",
    "# Figure 3\n",
    "axes[1].scatter(df['Kms_Driven'],df['Selling_Price'],color='b')\n",
    "axes[1].set_title('Prix de vente en fonction des km roulés')\n",
    "axes[1].set_xlabel('Milliers Km roulés')\n",
    "axes[1].set_ylabel('Prix de vente (k€)')\n",
    "\n",
    "fig.show()"
   ]
  },
  {
   "cell_type": "code",
   "execution_count": 82,
   "metadata": {},
   "outputs": [
    {
     "name": "stdout",
     "output_type": "stream",
     "text": [
      "Médiane du prix actuel (k€): 5.9\n",
      "Max du prix actuel (k€): 22.83\n",
      "Min du prix actuel (k€): 0.32\n",
      "\n",
      "\n",
      "Médiane des km roulés (k€): 30.3765\n",
      "Max des km roulés (k€): 92.233\n",
      "Min des km roulés (k€): 0.5\n"
     ]
    },
    {
     "name": "stderr",
     "output_type": "stream",
     "text": [
      "C:\\Users\\valen\\AppData\\Local\\Temp\\ipykernel_10388\\3110130169.py:11: UserWarning: Matplotlib is currently using module://matplotlib_inline.backend_inline, which is a non-GUI backend, so cannot show the figure.\n",
      "  fig.show()\n"
     ]
    },
    {
     "data": {
      "image/png": "[encoded data removed]",
      "text/plain": [
       "<Figure size 1500x500 with 2 Axes>"
      ]
     },
     "metadata": {},
     "output_type": "display_data"
    }
   ],
   "source": [
    "fig,axes = plt.subplots(nrows=1,ncols=2, figsize=(15,5))\n",
    " \n",
    "# Fig 1 \n",
    "axes[0].boxplot(df['Present_Price'])\n",
    "axes[0].set_title('Boxplot du prix actuel')\n",
    "\n",
    "# Fig 2\n",
    "axes[1].boxplot(df['Kms_Driven'])\n",
    "axes[1].set_title('Boxplot des km roulés')\n",
    "\n",
    "fig.show()\n",
    "\n",
    "print(\"Médiane du prix actuel (k€): \" + str(df['Present_Price'].median()))\n",
    "print(\"Max du prix actuel (k€): \" + str(df['Present_Price'].max()))\n",
    "print(\"Min du prix actuel (k€): \" + str(df['Present_Price'].min()))\n",
    "\n",
    "print(\"\\n\")\n",
    "\n",
    "print(\"Médiane des km roulés (k€): \" + str(df['Kms_Driven'].median()))\n",
    "print(\"Max des km roulés (k€): \" + str(df['Kms_Driven'].max()))\n",
    "print(\"Min des km roulés (k€): \" + str(df['Kms_Driven'].min()))"
   ]
  },
  {
   "cell_type": "code",
   "execution_count": 83,
   "metadata": {},
   "outputs": [
    {
     "data": {
      "text/html": [
       "<div>\n",
       "<style scoped>\n",
       "    .dataframe tbody tr th:only-of-type {\n",
       "        vertical-align: middle;\n",
       "    }\n",
       "\n",
       "    .dataframe tbody tr th {\n",
       "        vertical-align: top;\n",
       "    }\n",
       "\n",
       "    .dataframe thead th {\n",
       "        text-align: right;\n",
       "    }\n",
       "</style>\n",
       "<table border=\"1\" class=\"dataframe\">\n",
       "  <thead>\n",
       "    <tr style=\"text-align: right;\">\n",
       "      <th></th>\n",
       "      <th>Year</th>\n",
       "      <th>Selling_Price</th>\n",
       "      <th>Present_Price</th>\n",
       "      <th>Kms_Driven</th>\n",
       "      <th>Owner</th>\n",
       "      <th>carAge</th>\n",
       "    </tr>\n",
       "  </thead>\n",
       "  <tbody>\n",
       "    <tr>\n",
       "      <th>count</th>\n",
       "      <td>280.000000</td>\n",
       "      <td>280.000000</td>\n",
       "      <td>280.000000</td>\n",
       "      <td>280.000000</td>\n",
       "      <td>280.000000</td>\n",
       "      <td>280.000000</td>\n",
       "    </tr>\n",
       "    <tr>\n",
       "      <th>mean</th>\n",
       "      <td>2013.760714</td>\n",
       "      <td>3.940679</td>\n",
       "      <td>6.308071</td>\n",
       "      <td>32.169907</td>\n",
       "      <td>0.035714</td>\n",
       "      <td>5.239286</td>\n",
       "    </tr>\n",
       "    <tr>\n",
       "      <th>std</th>\n",
       "      <td>2.708653</td>\n",
       "      <td>3.380806</td>\n",
       "      <td>5.193315</td>\n",
       "      <td>21.134526</td>\n",
       "      <td>0.185909</td>\n",
       "      <td>2.708653</td>\n",
       "    </tr>\n",
       "    <tr>\n",
       "      <th>min</th>\n",
       "      <td>2003.000000</td>\n",
       "      <td>0.100000</td>\n",
       "      <td>0.320000</td>\n",
       "      <td>0.500000</td>\n",
       "      <td>0.000000</td>\n",
       "      <td>1.000000</td>\n",
       "    </tr>\n",
       "    <tr>\n",
       "      <th>25%</th>\n",
       "      <td>2012.000000</td>\n",
       "      <td>0.772500</td>\n",
       "      <td>1.035000</td>\n",
       "      <td>15.000000</td>\n",
       "      <td>0.000000</td>\n",
       "      <td>3.000000</td>\n",
       "    </tr>\n",
       "    <tr>\n",
       "      <th>50%</th>\n",
       "      <td>2014.000000</td>\n",
       "      <td>3.500000</td>\n",
       "      <td>5.900000</td>\n",
       "      <td>30.376500</td>\n",
       "      <td>0.000000</td>\n",
       "      <td>5.000000</td>\n",
       "    </tr>\n",
       "    <tr>\n",
       "      <th>75%</th>\n",
       "      <td>2016.000000</td>\n",
       "      <td>5.812500</td>\n",
       "      <td>9.400000</td>\n",
       "      <td>45.128500</td>\n",
       "      <td>0.000000</td>\n",
       "      <td>7.000000</td>\n",
       "    </tr>\n",
       "    <tr>\n",
       "      <th>max</th>\n",
       "      <td>2018.000000</td>\n",
       "      <td>18.000000</td>\n",
       "      <td>22.830000</td>\n",
       "      <td>92.233000</td>\n",
       "      <td>1.000000</td>\n",
       "      <td>16.000000</td>\n",
       "    </tr>\n",
       "  </tbody>\n",
       "</table>\n",
       "</div>"
      ],
      "text/plain": [
       "              Year  Selling_Price  Present_Price  Kms_Driven       Owner  \\\n",
       "count   280.000000     280.000000     280.000000  280.000000  280.000000   \n",
       "mean   2013.760714       3.940679       6.308071   32.169907    0.035714   \n",
       "std       2.708653       3.380806       5.193315   21.134526    0.185909   \n",
       "min    2003.000000       0.100000       0.320000    0.500000    0.000000   \n",
       "25%    2012.000000       0.772500       1.035000   15.000000    0.000000   \n",
       "50%    2014.000000       3.500000       5.900000   30.376500    0.000000   \n",
       "75%    2016.000000       5.812500       9.400000   45.128500    0.000000   \n",
       "max    2018.000000      18.000000      22.830000   92.233000    1.000000   \n",
       "\n",
       "           carAge  \n",
       "count  280.000000  \n",
       "mean     5.239286  \n",
       "std      2.708653  \n",
       "min      1.000000  \n",
       "25%      3.000000  \n",
       "50%      5.000000  \n",
       "75%      7.000000  \n",
       "max     16.000000  "
      ]
     },
     "execution_count": 83,
     "metadata": {},
     "output_type": "execute_result"
    }
   ],
   "source": [
    "df.describe()"
   ]
  },
  {
   "cell_type": "markdown",
   "metadata": {},
   "source": [
    "#### **7 - Utilisation de Machine Learning**"
   ]
  },
  {
   "cell_type": "markdown",
   "metadata": {},
   "source": [
    "Utilisation de scikit Learn "
   ]
  },
  {
   "cell_type": "markdown",
   "metadata": {},
   "source": [
    "##### **7.1 - Import des différents élément de scikit-Learn**"
   ]
  },
  {
   "cell_type": "code",
   "execution_count": 84,
   "metadata": {},
   "outputs": [],
   "source": [
    "from sklearn.model_selection import train_test_split\n",
    "from sklearn.linear_model import Ridge, LinearRegression, Lasso\n",
    "from sklearn.preprocessing import StandardScaler\n",
    "from sklearn.metrics import mean_squared_error"
   ]
  },
  {
   "cell_type": "markdown",
   "metadata": {},
   "source": [
    "##### **7.2 - Séparation des données en train/Test**"
   ]
  },
  {
   "cell_type": "code",
   "execution_count": 85,
   "metadata": {},
   "outputs": [],
   "source": [
    "# Séparation données / objectif\n",
    "X = df[['Year', 'Present_Price', 'Kms_Driven', 'Owner', 'carAge']]\n",
    "y = df['Selling_Price']\n",
    "\n",
    "# Création d'un test & training set\n",
    "X_train, X_test, y_train, y_test = train_test_split(X, y, test_size=0.2, random_state=42)\n",
    "\n",
    "# Standardisation des données\n",
    "scaler = StandardScaler()\n",
    "X_train_scaled = scaler.fit_transform(X_train)\n",
    "X_test_scaled = scaler.transform(X_test)\n"
   ]
  },
  {
   "cell_type": "markdown",
   "metadata": {},
   "source": [
    "##### **7.3 - Instanciation du modèle**"
   ]
  },
  {
   "cell_type": "code",
   "execution_count": 86,
   "metadata": {},
   "outputs": [
    {
     "name": "stdout",
     "output_type": "stream",
     "text": [
      "Mean Squared Error: 3.1780110876086396\n"
     ]
    }
   ],
   "source": [
    "# model = Ridge(alpha=0.5) # mse == 3.17\n",
    "# model = Lasso(alpha=0.1) # mse == 3.08\n",
    "model = LinearRegression() # mse == 3.05\n",
    "\n",
    "# Entrainement du modèle\n",
    "model.fit(X_train_scaled, y_train)\n",
    "\n",
    "# Demander une prediction au modèle\n",
    "predictions = model.predict(X_test_scaled)\n",
    "\n",
    "# Evaluation du modèle via mse\n",
    "mse = mean_squared_error(y_test, predictions)\n",
    "print(f\"Mean Squared Error: {mse}\")"
   ]
  },
  {
   "cell_type": "markdown",
   "metadata": {},
   "source": [
    "##### **7.4 - Prédiction**"
   ]
  },
  {
   "cell_type": "code",
   "execution_count": 87,
   "metadata": {},
   "outputs": [
    {
     "name": "stdout",
     "output_type": "stream",
     "text": [
      "Prediction:4.98, actuel: 5.5\n",
      "Prediction:1.72, actuel: 0.75\n",
      "Prediction:4.93, actuel: 5.5\n",
      "Prediction:4.44, actuel: 5.25\n",
      "Prediction:1.93, actuel: 0.4\n",
      "Prediction:5.86, actuel: 7.45\n",
      "Prediction:1.66, actuel: 0.45\n",
      "Prediction:5.64, actuel: 5.11\n",
      "Prediction:-0.34, actuel: 0.45\n",
      "Prediction:0.85, actuel: 0.38\n"
     ]
    }
   ],
   "source": [
    "pred_list = list(predictions)\n",
    "y_test_list = list(y_test)\n",
    "\n",
    "# comparaison des prix side/side\n",
    "for i in range(len(pred_list[:10])):\n",
    "    print(f\"Prediction:{round(pred_list[i],2)}, actuel: {y_test_list[i]}\")"
   ]
  }
 ],
 "metadata": {
  "kernelspec": {
   "display_name": "Python 3 (ipykernel)",
   "language": "python",
   "name": "python3"
  },
  "language_info": {
   "codemirror_mode": {
    "name": "ipython",
    "version": 3
   },
   "file_extension": ".py",
   "mimetype": "text/x-python",
   "name": "python",
   "nbconvert_exporter": "python",
   "pygments_lexer": "ipython3",
   "version": "3.10.2"
  }
 },
 "nbformat": 4,
 "nbformat_minor": 2
}
